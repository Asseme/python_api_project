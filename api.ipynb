{
 "metadata": {
  "language_info": {
   "codemirror_mode": {
    "name": "ipython",
    "version": 3
   },
   "file_extension": ".py",
   "mimetype": "text/x-python",
   "name": "python",
   "nbconvert_exporter": "python",
   "pygments_lexer": "ipython3",
   "version": "3.8.6-final"
  },
  "orig_nbformat": 2,
  "kernelspec": {
   "name": "Python 3.8.6 64-bit",
   "display_name": "Python 3.8.6 64-bit",
   "metadata": {
    "interpreter": {
     "hash": "aee8b7b246df8f9039afb4144a1f6fd8d2ca17a180786b69acc140d282b71a49"
    }
   }
  }
 },
 "nbformat": 4,
 "nbformat_minor": 2,
 "cells": [
  {
   "cell_type": "code",
   "execution_count": 1,
   "metadata": {},
   "outputs": [],
   "source": [
    "\n",
    "import requests\n",
    "import json\n",
    "import urllib.parse\n",
    "import pandas as pd\n",
    "import pygal\n",
    "                                                      # First import pygal\n",
    "                         # Save the svg to a file"
   ]
  },
  {
   "cell_type": "code",
   "execution_count": 2,
   "metadata": {},
   "outputs": [
    {
     "output_type": "execute_result",
     "data": {
      "text/plain": [
       "{'entrees_millions': 175.4,\n",
       " 'recette_guichet_meu_courants': 430.7,\n",
       " 'recette_moyenne_par_entree_eu': 2.46,\n",
       " 'annee': '1980',\n",
       " 'seances_milliers': 4141.6}"
      ]
     },
     "metadata": {},
     "execution_count": 2
    }
   ],
   "source": [
    "jsons = requests.get(\"https://data.culture.gouv.fr/api/records/1.0/search/?dataset=frequentation-dans-les-salles-de-cinema&q=&rows=100&sort=annee&facet=annee\").json()\n",
    "\n",
    "\n",
    "dataset = pd.DataFrame.from_dict(jsons,orient=\"index\")\n",
    "#pd.DataFrame.from_dict(dataset[0][2][0]['fields'],orient=\"index\")\n",
    "#pd.DataFrame(People_List,columns=['First_Name'])\n",
    "data=dataset[0][2]\n",
    "bar_chart = pygal.Bar()\n",
    "bar_chart.title = 'Browser usage evolution (in %)'\n",
    "bar_chart.x_labels = map(str, range(1980, 1985))\n",
    "\n",
    "\n",
    "\n",
    "pie_chart = pygal.Pie()\n",
    "pie_chart.title = 'Browser usage in February 2012 (in %)'\n",
    "#pie_chart.add('IE', 19.5)\n",
    "#pie_chart.add('Firefox', 36.6)\n",
    "#pie_chart.add('Chrome', 36.3)\n",
    "#pie_chart.add('Safari', 4.5)\n",
    "#pie_chart.add('Opera', 2.3)\n",
    "#pie_chart.render()\n",
    "hist = pygal.Histogram()\n",
    "#hist.add('Wide bars', [(5, 0, 10), (4, 5, 13), (2, 0, 15)])\n",
    "#hist.add('Narrow bars',  [(10, 1, 2), (12, 4, 4.5), (8, 11, 13)])\n",
    "#hist.render()\n",
    "l = list()\n",
    "for i in range(5):\n",
    "    #pie_chart.add(data[i]['fields']['annee'], data[i]['fields']['seances_milliers'])\n",
    "    #print(data[i]['fields']['annee'])\n",
    "    #bar_chart.add(data[i]['fields']['annee'],  [data[i]['fields']['seances_milliers']])\n",
    "    l.append(data[i]['fields']['seances_milliers'])\n",
    "bar_chart.add('Séeances',  l)\n",
    "#data\n",
    "bar_chart.render_to_file('bar.svg')\n",
    "data[0]['fields']"
   ]
  }
 ]
}